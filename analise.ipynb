{
 "cells": [
  {
   "cell_type": "markdown",
   "metadata": {},
   "source": [
    "# Análise da taxa de aprovação das disciplinas\n",
    "O objetivo desse notebook é realizar uma análise da taxa de aprovação das disciplinas da UFRN, por período. "
   ]
  },
  {
   "cell_type": "markdown",
   "metadata": {},
   "source": [
    "# Os dados\n",
    "Os dados que iremos utilizar foram retirados do site de [dados abertos da UFRN](http://dados.ufrn.br/). Os pacotes de dados foram:\n",
    "\n",
    "- [Docentes](http://dados.ufrn.br/dataset/docentes)\n",
    "- [Matriculas em Componentes](http://dados.ufrn.br/dataset/matriculas-componentes)\n",
    "- [Turmas](http://dados.ufrn.br/dataset/turmas)"
   ]
  },
  {
   "cell_type": "markdown",
   "metadata": {},
   "source": [
    "## Dependências\n",
    "Para o download desses dados, iremos utilizar o pacote [odufrn-downloader](https://github.com/odufrn/odufrn-downloader)."
   ]
  },
  {
   "cell_type": "code",
   "execution_count": 4,
   "metadata": {
    "scrolled": true
   },
   "outputs": [
    {
     "name": "stdout",
     "output_type": "stream",
     "text": [
      "Collecting odufrn_downloader\n",
      "  Downloading https://files.pythonhosted.org/packages/85/83/b71cb13588f78f7d3c34b3bb140728e70d8d4c6a4809cb9d4f9a9e3a8a65/odufrn_downloader-1.1.0-py3-none-any.whl\n",
      "Requirement already satisfied, skipping upgrade: requests in /usr/local/lib/python3.6/dist-packages (from odufrn_downloader) (2.21.0)\n",
      "Requirement already satisfied, skipping upgrade: urllib3<1.25,>=1.21.1 in /usr/local/lib/python3.6/dist-packages (from requests->odufrn_downloader) (1.24.1)\n",
      "Requirement already satisfied, skipping upgrade: idna<2.9,>=2.5 in /usr/local/lib/python3.6/dist-packages (from requests->odufrn_downloader) (2.8)\n",
      "Requirement already satisfied, skipping upgrade: chardet<3.1.0,>=3.0.2 in /usr/lib/python3/dist-packages (from requests->odufrn_downloader) (3.0.4)\n",
      "Requirement already satisfied, skipping upgrade: certifi>=2017.4.17 in /usr/local/lib/python3.6/dist-packages (from requests->odufrn_downloader) (2018.11.29)\n",
      "Installing collected packages: odufrn-downloader\n",
      "Successfully installed odufrn-downloader-1.1.0\n"
     ]
    }
   ],
   "source": [
    "!pip install -U --user odufrn_downloader"
   ]
  },
  {
   "cell_type": "markdown",
   "metadata": {},
   "source": [
    "## Importações"
   ]
  },
  {
   "cell_type": "code",
   "execution_count": 1,
   "metadata": {},
   "outputs": [],
   "source": [
    "import numpy as np\n",
    "import pandas as pd\n",
    "from os import listdir\n",
    "from odufrn_downloader import ODUFRNDownloader"
   ]
  },
  {
   "cell_type": "markdown",
   "metadata": {},
   "source": [
    "## Download dos arquivos"
   ]
  },
  {
   "cell_type": "code",
   "execution_count": 12,
   "metadata": {
    "scrolled": true
   },
   "outputs": [
    {
     "name": "stdout",
     "output_type": "stream",
     "text": [
      "Baixando Docentes...\n",
      "Baixando Dicionário de Dados - Docentes...\n",
      "Baixando Matrículas de 2019.1...\n",
      "Baixando Matrículas de 2018.2...\n",
      "Baixando Matrículas de 2018.1...\n",
      "Baixando Matrículas de 2017.2...\n",
      "Baixando Matrículas de 2017.1...\n",
      "Baixando Matrículas de 2016.2...\n",
      "Baixando Matrículas de 2016.1...\n",
      "Baixando Matrículas de 2015.2...\n",
      "Baixando Matrículas de 2015.1...\n",
      "Baixando Matrículas de 2014.2...\n",
      "Baixando Matrículas de 2014.1...\n",
      "Baixando Matrículas de 2013.2...\n",
      "Baixando Matrículas de 2013.1...\n",
      "Baixando Matrículas de 2012.2...\n",
      "Baixando Matrículas de 2011.2...\n",
      "Baixando Matrículas de 2012.1...\n",
      "Baixando Matrículas de 2011.1...\n",
      "Baixando Matrículas de 2010.2...\n",
      "Baixando Matrículas de 2010.1...\n",
      "Baixando Matrículas de 2009.2...\n",
      "Baixando Matrículas de 2009.1...\n",
      "Baixando Dicionário de Dados - Matrículas em Componentes...\n",
      "Baixando Turmas de 2018.1...\n",
      "Baixando Turmas de 2018.2...\n",
      "Baixando Turmas de 2017.1...\n",
      "Baixando Turmas de 2017.2...\n",
      "Baixando Turmas de 2016.1...\n",
      "Baixando Turmas de 2016.2...\n",
      "Baixando Turmas de 2015.1...\n",
      "Baixando Turmas de 2015.2...\n",
      "Baixando Turmas de 2014.1...\n",
      "Baixando Turmas de 2014.2...\n",
      "Baixando Turmas de 2013.1...\n",
      "Baixando Turmas de 2013.2...\n",
      "Baixando Turmas de 2012.1...\n",
      "Baixando Turmas de 2012.2...\n",
      "Baixando Turmas de 2011.2...\n",
      "Baixando Turmas de 2011.1...\n",
      "Baixando Turmas de 2010.1...\n",
      "Baixando Turmas de 2010.2...\n",
      "Baixando Turmas de 2009.1...\n",
      "Baixando Turmas de 2009.2...\n",
      "Baixando Turmas de 2008.1...\n",
      "Baixando Turmas de 2008.2...\n",
      "Baixando Turmas de 2007.1...\n",
      "Baixando Turmas de 2007.2...\n",
      "Baixando Turmas de 2006.1...\n",
      "Baixando Turmas de 2006.2...\n",
      "Baixando Turmas de 2005.1...\n",
      "Baixando Turmas de 2005.2...\n",
      "Baixando Turmas de 2004.1...\n",
      "Baixando Turmas de 2003.1...\n",
      "Baixando Turmas de 2004.2...\n",
      "Baixando Turmas de 2003.2...\n",
      "Baixando Turmas de 2019.1...\n",
      "Baixando Turmas de 2002.1...\n",
      "Baixando Turmas de 2002.2...\n",
      "Baixando Turmas de 2001.1...\n",
      "Baixando Turmas de 2001.2...\n",
      "Baixando Turmas de 2000.1...\n",
      "Baixando Turmas de 2000.2...\n",
      "Baixando Dicionário de Dados - Turmas...\n",
      "Baixando Turmas de 2019.2...\n"
     ]
    }
   ],
   "source": [
    "# Objeto\n",
    "ufrn_data = ODUFRNDownloader()\n",
    "# Processo de download\n",
    "ufrn_data.download_packages([\n",
    "    'docentes', 'matriculas-componentes', 'turmas',\n",
    "], 'data', dictionary=False)"
   ]
  },
  {
   "cell_type": "markdown",
   "metadata": {},
   "source": [
    "## Leitura dos arquivos"
   ]
  },
  {
   "cell_type": "code",
   "execution_count": 13,
   "metadata": {
    "scrolled": false
   },
   "outputs": [],
   "source": [
    "# Dicionário que conterá os datasets\n",
    "dfs = {\n",
    "    'docentes': [],\n",
    "    'turmas': [],\n",
    "    'matriculas-componentes': [],\n",
    "}\n",
    "\n",
    "# Campos que iremos usar de cada dataset\n",
    "target_columns = {\n",
    "    'docentes': [\n",
    "        'siape',\n",
    "        'nome',\n",
    "        'formacao',\n",
    "    ],\n",
    "    'turmas': [\n",
    "        'id_turma',\n",
    "        'siape',\n",
    "        'id_componente_curricular',\n",
    "        'ano',\n",
    "        'nivel_ensino',\n",
    "        'ano',\n",
    "        'periodo',\n",
    "        'situacao_turma',\n",
    "    ],\n",
    "    'matriculas-componentes': [\n",
    "        'id_turma',\n",
    "        'discente',\n",
    "        'id_curso',\n",
    "        'media_final',\n",
    "        'descricao',\n",
    "    ],\n",
    "    \n",
    "}\n",
    "\n",
    "# Percorremos as pastas com os datasets\n",
    "for package in listdir('data'):\n",
    "    # Percorremos cada arquivo da pasta\n",
    "    for filename in listdir('data/'+package):\n",
    "        # Caminho para o arquivo\n",
    "        path_file = 'data/'+package+'/'+filename\n",
    "        # Lemos o dataset\n",
    "        df = pd.read_csv(path_file, sep=';', usecols=target_columns[package])\n",
    "        # Adiciona a coluna para identificar os períodos\n",
    "        if package in ['turmas', 'matriculas-componentes']:\n",
    "            df['periodo'] = filename[-10:-4]\n",
    "        # Adicionamos o dataframe a lista de dataframe\n",
    "        dfs[package].append(df)\n",
    "        \n",
    "# Ao final, concatenamos todos os datasets, gerando um só para cada pacote\n",
    "for key in dfs.keys():\n",
    "    dfs[key] = pd.concat(dfs[key], ignore_index=True)"
   ]
  },
  {
   "cell_type": "markdown",
   "metadata": {},
   "source": [
    "A função **[pandas.DataFrame.info](https://pandas.pydata.org/pandas-docs/stable/generated/pandas.DataFrame.info.html)** nos fornecerá um sumário dos dados que temos. "
   ]
  },
  {
   "cell_type": "code",
   "execution_count": 15,
   "metadata": {},
   "outputs": [
    {
     "name": "stdout",
     "output_type": "stream",
     "text": [
      "<class 'pandas.core.frame.DataFrame'>\n",
      "RangeIndex: 2361 entries, 0 to 2360\n",
      "Data columns (total 3 columns):\n",
      "siape       2361 non-null int64\n",
      "nome        2361 non-null object\n",
      "formacao    2361 non-null object\n",
      "dtypes: int64(1), object(2)\n",
      "memory usage: 55.5+ KB\n"
     ]
    }
   ],
   "source": [
    "dfs['docentes'].info()"
   ]
  },
  {
   "cell_type": "code",
   "execution_count": 16,
   "metadata": {},
   "outputs": [
    {
     "name": "stdout",
     "output_type": "stream",
     "text": [
      "<class 'pandas.core.frame.DataFrame'>\n",
      "RangeIndex: 371632 entries, 0 to 371631\n",
      "Data columns (total 7 columns):\n",
      "id_turma                    371632 non-null int64\n",
      "siape                       358806 non-null float64\n",
      "id_componente_curricular    371632 non-null int64\n",
      "nivel_ensino                371632 non-null object\n",
      "ano                         371632 non-null int64\n",
      "periodo                     371632 non-null object\n",
      "situacao_turma              371632 non-null object\n",
      "dtypes: float64(1), int64(3), object(3)\n",
      "memory usage: 19.8+ MB\n"
     ]
    }
   ],
   "source": [
    "dfs['turmas'].info()"
   ]
  },
  {
   "cell_type": "code",
   "execution_count": 17,
   "metadata": {
    "scrolled": true
   },
   "outputs": [
    {
     "name": "stdout",
     "output_type": "stream",
     "text": [
      "<class 'pandas.core.frame.DataFrame'>\n",
      "RangeIndex: 13079106 entries, 0 to 13079105\n",
      "Data columns (total 6 columns):\n",
      "id_turma       int64\n",
      "discente       object\n",
      "id_curso       float64\n",
      "media_final    object\n",
      "descricao      object\n",
      "periodo        object\n",
      "dtypes: float64(1), int64(1), object(4)\n",
      "memory usage: 598.7+ MB\n"
     ]
    }
   ],
   "source": [
    "dfs['matriculas-componentes'].info()"
   ]
  },
  {
   "cell_type": "markdown",
   "metadata": {},
   "source": [
    "# Calcular a taxa de aprovação das turmas"
   ]
  },
  {
   "cell_type": "code",
   "execution_count": null,
   "metadata": {},
   "outputs": [],
   "source": []
  }
 ],
 "metadata": {
  "kernelspec": {
   "display_name": "Python 3",
   "language": "python",
   "name": "python3"
  },
  "language_info": {
   "codemirror_mode": {
    "name": "ipython",
    "version": 3
   },
   "file_extension": ".py",
   "mimetype": "text/x-python",
   "name": "python",
   "nbconvert_exporter": "python",
   "pygments_lexer": "ipython3",
   "version": "3.6.8"
  }
 },
 "nbformat": 4,
 "nbformat_minor": 2
}
