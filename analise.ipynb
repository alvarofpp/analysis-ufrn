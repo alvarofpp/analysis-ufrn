{
 "cells": [
  {
   "cell_type": "markdown",
   "metadata": {},
   "source": [
    "# Análise da taxa de aprovação das disciplinas\n",
    "O objetivo desse notebook é realizar uma análise da taxa de aprovação das disciplinas da UFRN, por período.\n",
    "\n",
    "**Perguntas orientadoras**:\n",
    "- Qual o índice de aprovação da disciplina FMC2 em 2019.1?"
   ]
  },
  {
   "cell_type": "markdown",
   "metadata": {},
   "source": [
    "# Os dados\n",
    "Os dados que iremos utilizar foram retirados do site de [dados abertos da UFRN](http://dados.ufrn.br/). Os pacotes de dados foram:\n",
    "\n",
    "- [Docentes](http://dados.ufrn.br/dataset/docentes)\n",
    "- [Matriculas em Componentes](http://dados.ufrn.br/dataset/matriculas-componentes)\n",
    "- [Turmas](http://dados.ufrn.br/dataset/turmas)"
   ]
  },
  {
   "cell_type": "markdown",
   "metadata": {},
   "source": [
    "## Dependências\n",
    "Para o download desses dados, iremos utilizar o pacote [odufrn-downloader](https://github.com/odufrn/odufrn-downloader)."
   ]
  },
  {
   "cell_type": "code",
   "execution_count": null,
   "metadata": {
    "scrolled": true
   },
   "outputs": [],
   "source": [
    "!pip install -U --user odufrn_downloader"
   ]
  },
  {
   "cell_type": "markdown",
   "metadata": {},
   "source": [
    "## Importações"
   ]
  },
  {
   "cell_type": "code",
   "execution_count": 1,
   "metadata": {},
   "outputs": [],
   "source": [
    "import numpy as np\n",
    "import pandas as pd\n",
    "from os import listdir\n",
    "from odufrn_downloader import ODUFRNDownloader"
   ]
  },
  {
   "cell_type": "markdown",
   "metadata": {},
   "source": [
    "## Download dos arquivos"
   ]
  },
  {
   "cell_type": "code",
   "execution_count": 2,
   "metadata": {
    "scrolled": false
   },
   "outputs": [
    {
     "name": "stdout",
     "output_type": "stream",
     "text": [
      "Baixando Docentes...\n",
      "Baixando Matrículas de 2019.1...\n",
      "Baixando Matrículas de 2018.2...\n",
      "Baixando Matrículas de 2018.1...\n",
      "Baixando Matrículas de 2017.2...\n",
      "Baixando Matrículas de 2017.1...\n",
      "Baixando Matrículas de 2016.2...\n",
      "Baixando Matrículas de 2016.1...\n",
      "Baixando Matrículas de 2015.2...\n",
      "Baixando Matrículas de 2015.1...\n",
      "Baixando Matrículas de 2014.2...\n",
      "Baixando Matrículas de 2014.1...\n",
      "Baixando Matrículas de 2013.2...\n",
      "Baixando Matrículas de 2013.1...\n",
      "Baixando Matrículas de 2012.2...\n",
      "Baixando Matrículas de 2011.2...\n",
      "Baixando Matrículas de 2012.1...\n",
      "Baixando Matrículas de 2011.1...\n",
      "Baixando Matrículas de 2010.2...\n",
      "Baixando Matrículas de 2010.1...\n",
      "Baixando Matrículas de 2009.2...\n",
      "Baixando Matrículas de 2009.1...\n",
      "Baixando Turmas de 2018.1...\n",
      "Baixando Turmas de 2018.2...\n",
      "Baixando Turmas de 2017.1...\n",
      "Baixando Turmas de 2017.2...\n",
      "Baixando Turmas de 2016.1...\n",
      "Baixando Turmas de 2016.2...\n",
      "Baixando Turmas de 2015.1...\n",
      "Baixando Turmas de 2015.2...\n",
      "Baixando Turmas de 2014.1...\n",
      "Baixando Turmas de 2014.2...\n",
      "Baixando Turmas de 2013.1...\n",
      "Baixando Turmas de 2013.2...\n",
      "Baixando Turmas de 2012.1...\n",
      "Baixando Turmas de 2012.2...\n",
      "Baixando Turmas de 2011.2...\n",
      "Baixando Turmas de 2011.1...\n",
      "Baixando Turmas de 2010.1...\n",
      "Baixando Turmas de 2010.2...\n",
      "Baixando Turmas de 2009.1...\n",
      "Baixando Turmas de 2009.2...\n",
      "Baixando Turmas de 2008.1...\n",
      "Baixando Turmas de 2008.2...\n",
      "Baixando Turmas de 2007.1...\n",
      "Baixando Turmas de 2007.2...\n",
      "Baixando Turmas de 2006.1...\n",
      "Baixando Turmas de 2006.2...\n",
      "Baixando Turmas de 2005.1...\n",
      "Baixando Turmas de 2005.2...\n",
      "Baixando Turmas de 2004.1...\n",
      "Baixando Turmas de 2003.1...\n",
      "Baixando Turmas de 2004.2...\n",
      "Baixando Turmas de 2003.2...\n",
      "Baixando Turmas de 2019.1...\n",
      "Baixando Turmas de 2002.1...\n",
      "Baixando Turmas de 2002.2...\n",
      "Baixando Turmas de 2001.1...\n",
      "Baixando Turmas de 2001.2...\n",
      "Baixando Turmas de 2000.1...\n",
      "Baixando Turmas de 2000.2...\n",
      "Baixando Turmas de 2019.2...\n"
     ]
    }
   ],
   "source": [
    "# Objeto\n",
    "ufrn_data = ODUFRNDownloader()\n",
    "# Processo de download\n",
    "ufrn_data.download_packages([\n",
    "    'docentes', 'matriculas-componentes', 'turmas',\n",
    "], path='data', dictionary=False)"
   ]
  },
  {
   "cell_type": "markdown",
   "metadata": {},
   "source": [
    "## Leitura dos arquivos\n",
    "Como temos muitos arquivos, não podemos nos dar ao luxo de alocar todos ele em memória, para isso iremos especificar os campos que queremos usar de cada pacote de dados.\n",
    "\n",
    "**Docentes**:\n",
    "\n",
    "| Campo | Tipo | Descrição | Obrigatório? |\n",
    "| ----- | ---- | --------- | ------------ |\n",
    "| siape | Inteiro | Matrícula SIAPE do docente | Sim |\n",
    "| nome | Texto | Nome do docente | Sim |\n",
    "| formacao | Texto | Denominação da formação/titulação do docente | Não |\n",
    "\n",
    "**Turmas**:\n",
    "\n",
    "| Campo | Tipo | Descrição | Obrigatório? |\n",
    "| ----- | ---- | --------- | ------------ |\n",
    "| id_turma | Inteiro | Identificador da turma | Sim |\n",
    "| siape | Inteiro | Siape do docente interno (siape - caso seja um docente servidor da instituição). | Não |\n",
    "| id_componente | Inteiro | Identificador do componente curricular da turma. | Sim |\n",
    "| nivel_ensino | Texto | Nível de ensino da turma. | Sim |\n",
    "| situacao_turma | Texto | Situação da turma. | Sim |\n",
    "| tipo | Inteiro | Identificador para informar o tipo da Turma. | Sim |\n",
    "\n",
    "**Matrículas em Componentes**:\n",
    "\n",
    "| Campo | Tipo | Descrição | Obrigatório? |\n",
    "| ----- | ---- | --------- | ------------ |\n",
    "| id_turma | Inteiro | Identificador da turma do discente. | Sim |\n",
    "| id_discente | Texto | Identificador do discente da matrícula. | Sim |\n",
    "| id_curso | Inteiro | Identificador do curso do discente. | Sim |\n",
    "| media_final | Decimal | Média final do discente. | Sim |\n",
    "| descricao | Texto | Situação da matrícula. | Sim |"
   ]
  },
  {
   "cell_type": "code",
   "execution_count": 2,
   "metadata": {},
   "outputs": [],
   "source": [
    "# Campos que iremos usar de cada dataset\n",
    "target_columns = {\n",
    "    'docentes': [\n",
    "        'siape',\n",
    "        'nome',\n",
    "        'formacao',\n",
    "    ],\n",
    "    'turmas': [\n",
    "        'id_turma',\n",
    "        'siape',\n",
    "        'id_componente_curricular',\n",
    "        'nivel_ensino',\n",
    "        'situacao_turma',\n",
    "        'tipo',\n",
    "    ],\n",
    "    'matriculas-componentes': [\n",
    "        'id_turma',\n",
    "        'discente',\n",
    "        'id_curso',\n",
    "        'media_final',\n",
    "        'descricao',\n",
    "    ],\n",
    "    \n",
    "}"
   ]
  },
  {
   "cell_type": "markdown",
   "metadata": {},
   "source": [
    "Realizamos o processo de filtragem dos campos e concatenação dos DataFrames. No caso de **turmas** e **matriculas-componentes**, iremos criar o campo *ano_periodo*. "
   ]
  },
  {
   "cell_type": "code",
   "execution_count": 4,
   "metadata": {
    "scrolled": false
   },
   "outputs": [],
   "source": [
    "# Dicionário que conterá os datasets\n",
    "dfs = {\n",
    "    'docentes': [],\n",
    "    'turmas': [],\n",
    "    'matriculas-componentes': [],\n",
    "}\n",
    "\n",
    "\n",
    "\n",
    "# Percorremos as pastas com os datasets\n",
    "for package in listdir('data'):\n",
    "    # Percorremos cada arquivo da pasta\n",
    "    for filename in listdir('data/'+package):\n",
    "        # Caminho para o arquivo\n",
    "        path_file = 'data/'+package+'/'+filename\n",
    "        # Lemos o dataset\n",
    "        df = pd.read_csv(path_file, sep=';', usecols=target_columns[package])\n",
    "        # Adiciona a coluna para identificar os anos e períodos\n",
    "        if package in ['turmas', 'matriculas-componentes']:\n",
    "            df['ano_periodo'] = filename[-10:-4]\n",
    "        # Adicionamos o dataframe a lista de dataframe\n",
    "        dfs[package].append(df)\n",
    "        \n",
    "# Ao final, concatenamos todos os datasets, gerando um só para cada pacote\n",
    "for key in dfs.keys():\n",
    "    dfs[key] = pd.concat(dfs[key], ignore_index=True)"
   ]
  },
  {
   "cell_type": "markdown",
   "metadata": {},
   "source": [
    "A função **[pandas.DataFrame.info](https://pandas.pydata.org/pandas-docs/stable/generated/pandas.DataFrame.info.html)** nos fornecerá um sumário dos dados que temos. "
   ]
  },
  {
   "cell_type": "code",
   "execution_count": 5,
   "metadata": {},
   "outputs": [
    {
     "name": "stdout",
     "output_type": "stream",
     "text": [
      "<class 'pandas.core.frame.DataFrame'>\n",
      "RangeIndex: 2361 entries, 0 to 2360\n",
      "Data columns (total 3 columns):\n",
      "siape       2361 non-null int64\n",
      "nome        2361 non-null object\n",
      "formacao    2361 non-null object\n",
      "dtypes: int64(1), object(2)\n",
      "memory usage: 55.5+ KB\n"
     ]
    }
   ],
   "source": [
    "dfs['docentes'].info()"
   ]
  },
  {
   "cell_type": "code",
   "execution_count": 6,
   "metadata": {},
   "outputs": [
    {
     "name": "stdout",
     "output_type": "stream",
     "text": [
      "<class 'pandas.core.frame.DataFrame'>\n",
      "RangeIndex: 371632 entries, 0 to 371631\n",
      "Data columns (total 7 columns):\n",
      "id_turma                    371632 non-null int64\n",
      "siape                       358806 non-null float64\n",
      "id_componente_curricular    371632 non-null int64\n",
      "nivel_ensino                371632 non-null object\n",
      "tipo                        371632 non-null object\n",
      "situacao_turma              371632 non-null object\n",
      "ano_periodo                 371632 non-null object\n",
      "dtypes: float64(1), int64(2), object(4)\n",
      "memory usage: 19.8+ MB\n"
     ]
    }
   ],
   "source": [
    "dfs['turmas'].info()"
   ]
  },
  {
   "cell_type": "code",
   "execution_count": 7,
   "metadata": {
    "scrolled": false
   },
   "outputs": [
    {
     "name": "stdout",
     "output_type": "stream",
     "text": [
      "<class 'pandas.core.frame.DataFrame'>\n",
      "RangeIndex: 13079106 entries, 0 to 13079105\n",
      "Data columns (total 6 columns):\n",
      "id_turma       int64\n",
      "discente       object\n",
      "id_curso       float64\n",
      "media_final    object\n",
      "descricao      object\n",
      "ano_periodo    object\n",
      "dtypes: float64(1), int64(1), object(4)\n",
      "memory usage: 598.7+ MB\n"
     ]
    }
   ],
   "source": [
    "dfs['matriculas-componentes'].info()"
   ]
  },
  {
   "cell_type": "markdown",
   "metadata": {},
   "source": [
    "# Calcular a taxa de aprovação das disciplinas\n",
    "Aqui iremos calcular a taxa de aprovação das disciplinas por período.\n",
    "\n",
    "## Filtro\n",
    "Primeiro iremos realizar um filtro nas turmas, pegando apenas as que são de graduação e foram consolidadas."
   ]
  },
  {
   "cell_type": "code",
   "execution_count": 8,
   "metadata": {},
   "outputs": [],
   "source": [
    "# Filtramos as turmas de graduação e turmas consolidadas\n",
    "df_turmas_filter = dfs['turmas'][\n",
    "    (dfs['turmas']['nivel_ensino'] == 'GRADUAÇÃO')\n",
    "    & (dfs['turmas']['situacao_turma'] == 'CONSOLIDADA')\n",
    "    & (dfs['turmas']['tipo'] == 'REGULAR')\n",
    "]\n",
    "\n",
    "# Reseta os indexes\n",
    "df_turmas_filter.reset_index(drop=True, inplace=True)"
   ]
  },
  {
   "cell_type": "code",
   "execution_count": 9,
   "metadata": {
    "scrolled": false
   },
   "outputs": [
    {
     "name": "stdout",
     "output_type": "stream",
     "text": [
      "<class 'pandas.core.frame.DataFrame'>\n",
      "RangeIndex: 264494 entries, 0 to 264493\n",
      "Data columns (total 7 columns):\n",
      "id_turma                    264494 non-null int64\n",
      "siape                       261767 non-null float64\n",
      "id_componente_curricular    264494 non-null int64\n",
      "nivel_ensino                264494 non-null object\n",
      "tipo                        264494 non-null object\n",
      "situacao_turma              264494 non-null object\n",
      "ano_periodo                 264494 non-null object\n",
      "dtypes: float64(1), int64(2), object(4)\n",
      "memory usage: 14.1+ MB\n"
     ]
    }
   ],
   "source": [
    "df_turmas_filter.info()"
   ]
  },
  {
   "cell_type": "code",
   "execution_count": 10,
   "metadata": {},
   "outputs": [
    {
     "data": {
      "text/html": [
       "<div>\n",
       "<style scoped>\n",
       "    .dataframe tbody tr th:only-of-type {\n",
       "        vertical-align: middle;\n",
       "    }\n",
       "\n",
       "    .dataframe tbody tr th {\n",
       "        vertical-align: top;\n",
       "    }\n",
       "\n",
       "    .dataframe thead th {\n",
       "        text-align: right;\n",
       "    }\n",
       "</style>\n",
       "<table border=\"1\" class=\"dataframe\">\n",
       "  <thead>\n",
       "    <tr style=\"text-align: right;\">\n",
       "      <th></th>\n",
       "      <th>id_turma</th>\n",
       "      <th>siape</th>\n",
       "      <th>id_componente_curricular</th>\n",
       "      <th>nivel_ensino</th>\n",
       "      <th>tipo</th>\n",
       "      <th>situacao_turma</th>\n",
       "      <th>ano_periodo</th>\n",
       "    </tr>\n",
       "  </thead>\n",
       "  <tbody>\n",
       "    <tr>\n",
       "      <td>0</td>\n",
       "      <td>1160176</td>\n",
       "      <td>1149368.0</td>\n",
       "      <td>21743</td>\n",
       "      <td>GRADUAÇÃO</td>\n",
       "      <td>REGULAR</td>\n",
       "      <td>CONSOLIDADA</td>\n",
       "      <td>2011.1</td>\n",
       "    </tr>\n",
       "    <tr>\n",
       "      <td>1</td>\n",
       "      <td>1160177</td>\n",
       "      <td>1856399.0</td>\n",
       "      <td>22926</td>\n",
       "      <td>GRADUAÇÃO</td>\n",
       "      <td>REGULAR</td>\n",
       "      <td>CONSOLIDADA</td>\n",
       "      <td>2011.1</td>\n",
       "    </tr>\n",
       "    <tr>\n",
       "      <td>2</td>\n",
       "      <td>1160178</td>\n",
       "      <td>6346790.0</td>\n",
       "      <td>25562</td>\n",
       "      <td>GRADUAÇÃO</td>\n",
       "      <td>REGULAR</td>\n",
       "      <td>CONSOLIDADA</td>\n",
       "      <td>2011.1</td>\n",
       "    </tr>\n",
       "    <tr>\n",
       "      <td>3</td>\n",
       "      <td>1160179</td>\n",
       "      <td>346468.0</td>\n",
       "      <td>25562</td>\n",
       "      <td>GRADUAÇÃO</td>\n",
       "      <td>REGULAR</td>\n",
       "      <td>CONSOLIDADA</td>\n",
       "      <td>2011.1</td>\n",
       "    </tr>\n",
       "    <tr>\n",
       "      <td>4</td>\n",
       "      <td>1160179</td>\n",
       "      <td>6346790.0</td>\n",
       "      <td>25562</td>\n",
       "      <td>GRADUAÇÃO</td>\n",
       "      <td>REGULAR</td>\n",
       "      <td>CONSOLIDADA</td>\n",
       "      <td>2011.1</td>\n",
       "    </tr>\n",
       "  </tbody>\n",
       "</table>\n",
       "</div>"
      ],
      "text/plain": [
       "   id_turma      siape  id_componente_curricular nivel_ensino     tipo  \\\n",
       "0   1160176  1149368.0                     21743    GRADUAÇÃO  REGULAR   \n",
       "1   1160177  1856399.0                     22926    GRADUAÇÃO  REGULAR   \n",
       "2   1160178  6346790.0                     25562    GRADUAÇÃO  REGULAR   \n",
       "3   1160179   346468.0                     25562    GRADUAÇÃO  REGULAR   \n",
       "4   1160179  6346790.0                     25562    GRADUAÇÃO  REGULAR   \n",
       "\n",
       "  situacao_turma ano_periodo  \n",
       "0    CONSOLIDADA      2011.1  \n",
       "1    CONSOLIDADA      2011.1  \n",
       "2    CONSOLIDADA      2011.1  \n",
       "3    CONSOLIDADA      2011.1  \n",
       "4    CONSOLIDADA      2011.1  "
      ]
     },
     "execution_count": 10,
     "metadata": {},
     "output_type": "execute_result"
    }
   ],
   "source": [
    "df_turmas_filter.head()"
   ]
  },
  {
   "cell_type": "markdown",
   "metadata": {},
   "source": [
    "Agora vamos realizar o filtro nas matriculas, pegando as matriculas completaram a disciplina de alguma forma."
   ]
  },
  {
   "cell_type": "code",
   "execution_count": 31,
   "metadata": {},
   "outputs": [],
   "source": [
    "# Filtramos as matriculas que completaram a disciplina de alguma forma\n",
    "df_matriculas_filter = dfs['matriculas-componentes'][\n",
    "    dfs['matriculas-componentes']['descricao'].isin([\n",
    "            'APROVADO',\n",
    "            'APROVADO POR NOTA',\n",
    "            'REPROVADO',\n",
    "            'REPROVADO POR FALTAS',\n",
    "            'REPROVADO POR MÉDIA E POR FALTAS',\n",
    "            'REPROVADO POR NOTA',\n",
    "            'REPROVADO POR NOTA E FALTA'\n",
    "        ])\n",
    "]\n",
    "\n",
    "# Reseta os indexes\n",
    "df_matriculas_filter.reset_index(drop=True, inplace=True)\n",
    "\n",
    "# Dropna\n",
    "df_matriculas_filter = df_matriculas_filter[df_matriculas_filter['media_final'].notna()]\n",
    "\n",
    "# Muda as virgulas para pontos\n",
    "df_matriculas_filter['media_final'] = df_matriculas_filter['media_final'].str.replace(\n",
    "    ',', '.'\n",
    ")\n",
    "\n",
    "# Muda do tipo da coluna\n",
    "df_matriculas_filter['media_final'] = df_matriculas_filter.media_final.astype(float)"
   ]
  },
  {
   "cell_type": "code",
   "execution_count": 32,
   "metadata": {},
   "outputs": [
    {
     "name": "stdout",
     "output_type": "stream",
     "text": [
      "<class 'pandas.core.frame.DataFrame'>\n",
      "Int64Index: 11149013 entries, 0 to 11237076\n",
      "Data columns (total 6 columns):\n",
      "id_turma       int64\n",
      "discente       object\n",
      "id_curso       float64\n",
      "media_final    float64\n",
      "descricao      object\n",
      "ano_periodo    object\n",
      "dtypes: float64(2), int64(1), object(3)\n",
      "memory usage: 595.4+ MB\n"
     ]
    }
   ],
   "source": [
    "df_matriculas_filter.info()"
   ]
  },
  {
   "cell_type": "code",
   "execution_count": 30,
   "metadata": {
    "scrolled": false
   },
   "outputs": [
    {
     "data": {
      "text/html": [
       "<div>\n",
       "<style scoped>\n",
       "    .dataframe tbody tr th:only-of-type {\n",
       "        vertical-align: middle;\n",
       "    }\n",
       "\n",
       "    .dataframe tbody tr th {\n",
       "        vertical-align: top;\n",
       "    }\n",
       "\n",
       "    .dataframe thead th {\n",
       "        text-align: right;\n",
       "    }\n",
       "</style>\n",
       "<table border=\"1\" class=\"dataframe\">\n",
       "  <thead>\n",
       "    <tr style=\"text-align: right;\">\n",
       "      <th></th>\n",
       "      <th>id_turma</th>\n",
       "      <th>discente</th>\n",
       "      <th>id_curso</th>\n",
       "      <th>media_final</th>\n",
       "      <th>descricao</th>\n",
       "      <th>ano_periodo</th>\n",
       "    </tr>\n",
       "  </thead>\n",
       "  <tbody>\n",
       "    <tr>\n",
       "      <td>0</td>\n",
       "      <td>57508432</td>\n",
       "      <td>bc3f5fa0b73af682c8e8f5ec1663028b</td>\n",
       "      <td>2000011.0</td>\n",
       "      <td>8.5</td>\n",
       "      <td>APROVADO</td>\n",
       "      <td>2009.1</td>\n",
       "    </tr>\n",
       "    <tr>\n",
       "      <td>1</td>\n",
       "      <td>57508432</td>\n",
       "      <td>bc3f5fa0b73af682c8e8f5ec1663028b</td>\n",
       "      <td>2000011.0</td>\n",
       "      <td>8.5</td>\n",
       "      <td>APROVADO</td>\n",
       "      <td>2009.1</td>\n",
       "    </tr>\n",
       "    <tr>\n",
       "      <td>2</td>\n",
       "      <td>57508432</td>\n",
       "      <td>bc3f5fa0b73af682c8e8f5ec1663028b</td>\n",
       "      <td>2000011.0</td>\n",
       "      <td>8.5</td>\n",
       "      <td>APROVADO</td>\n",
       "      <td>2009.1</td>\n",
       "    </tr>\n",
       "    <tr>\n",
       "      <td>3</td>\n",
       "      <td>57508432</td>\n",
       "      <td>a9bbcaaf5d35b4f71ffd224bb1fedbe5</td>\n",
       "      <td>2000011.0</td>\n",
       "      <td>8.2</td>\n",
       "      <td>APROVADO</td>\n",
       "      <td>2009.1</td>\n",
       "    </tr>\n",
       "    <tr>\n",
       "      <td>4</td>\n",
       "      <td>57508432</td>\n",
       "      <td>a9bbcaaf5d35b4f71ffd224bb1fedbe5</td>\n",
       "      <td>2000011.0</td>\n",
       "      <td>8.2</td>\n",
       "      <td>APROVADO</td>\n",
       "      <td>2009.1</td>\n",
       "    </tr>\n",
       "  </tbody>\n",
       "</table>\n",
       "</div>"
      ],
      "text/plain": [
       "   id_turma                          discente   id_curso media_final  \\\n",
       "0  57508432  bc3f5fa0b73af682c8e8f5ec1663028b  2000011.0         8.5   \n",
       "1  57508432  bc3f5fa0b73af682c8e8f5ec1663028b  2000011.0         8.5   \n",
       "2  57508432  bc3f5fa0b73af682c8e8f5ec1663028b  2000011.0         8.5   \n",
       "3  57508432  a9bbcaaf5d35b4f71ffd224bb1fedbe5  2000011.0         8.2   \n",
       "4  57508432  a9bbcaaf5d35b4f71ffd224bb1fedbe5  2000011.0         8.2   \n",
       "\n",
       "  descricao ano_periodo  \n",
       "0  APROVADO      2009.1  \n",
       "1  APROVADO      2009.1  \n",
       "2  APROVADO      2009.1  \n",
       "3  APROVADO      2009.1  \n",
       "4  APROVADO      2009.1  "
      ]
     },
     "execution_count": 30,
     "metadata": {},
     "output_type": "execute_result"
    }
   ],
   "source": [
    "df_matriculas_filter.head()"
   ]
  },
  {
   "cell_type": "code",
   "execution_count": 29,
   "metadata": {},
   "outputs": [
    {
     "data": {
      "text/plain": [
       "array(['2009.1', '2014.1', '2011.2', '2010.2', '2018.1', '2011.1',\n",
       "       '2014.2', '2010.1', '2017.2', '2019.1', '2012.2', '2015.1',\n",
       "       '2017.1', '2016.1', '2016.2', '2013.1', '2015.2', '2012.1',\n",
       "       '2009.2', '2018.2', '2013.2'], dtype=object)"
      ]
     },
     "execution_count": 29,
     "metadata": {},
     "output_type": "execute_result"
    }
   ],
   "source": [
    "df_matriculas_filter[df_matriculas_filter.media_final.isna()]['ano_periodo'].unique()"
   ]
  },
  {
   "cell_type": "code",
   "execution_count": 21,
   "metadata": {},
   "outputs": [
    {
     "data": {
      "text/plain": [
       "1677719"
      ]
     },
     "execution_count": 21,
     "metadata": {},
     "output_type": "execute_result"
    }
   ],
   "source": [
    "dfs['matriculas-componentes']['media_final'].isna().sum()"
   ]
  },
  {
   "cell_type": "code",
   "execution_count": 24,
   "metadata": {},
   "outputs": [
    {
     "data": {
      "text/html": [
       "<div>\n",
       "<style scoped>\n",
       "    .dataframe tbody tr th:only-of-type {\n",
       "        vertical-align: middle;\n",
       "    }\n",
       "\n",
       "    .dataframe tbody tr th {\n",
       "        vertical-align: top;\n",
       "    }\n",
       "\n",
       "    .dataframe thead th {\n",
       "        text-align: right;\n",
       "    }\n",
       "</style>\n",
       "<table border=\"1\" class=\"dataframe\">\n",
       "  <thead>\n",
       "    <tr style=\"text-align: right;\">\n",
       "      <th></th>\n",
       "      <th>id_turma</th>\n",
       "      <th>discente</th>\n",
       "      <th>id_curso</th>\n",
       "      <th>media_final</th>\n",
       "      <th>descricao</th>\n",
       "      <th>ano_periodo</th>\n",
       "    </tr>\n",
       "  </thead>\n",
       "  <tbody>\n",
       "    <tr>\n",
       "      <td>0</td>\n",
       "      <td>57508432</td>\n",
       "      <td>fad2f949bdce831a13d3380055ee07ec</td>\n",
       "      <td>2000011.0</td>\n",
       "      <td>NaN</td>\n",
       "      <td>INDEFERIDO</td>\n",
       "      <td>2009.1</td>\n",
       "    </tr>\n",
       "    <tr>\n",
       "      <td>1</td>\n",
       "      <td>57508432</td>\n",
       "      <td>d8221e79084eea45367dc26f59bd3adf</td>\n",
       "      <td>2000011.0</td>\n",
       "      <td>NaN</td>\n",
       "      <td>INDEFERIDO</td>\n",
       "      <td>2009.1</td>\n",
       "    </tr>\n",
       "    <tr>\n",
       "      <td>5</td>\n",
       "      <td>57508432</td>\n",
       "      <td>91580e1dd90ed3811c753915c7b3596c</td>\n",
       "      <td>2000002.0</td>\n",
       "      <td>NaN</td>\n",
       "      <td>INDEFERIDO</td>\n",
       "      <td>2009.1</td>\n",
       "    </tr>\n",
       "    <tr>\n",
       "      <td>6</td>\n",
       "      <td>57508432</td>\n",
       "      <td>fad2f949bdce831a13d3380055ee07ec</td>\n",
       "      <td>2000011.0</td>\n",
       "      <td>NaN</td>\n",
       "      <td>INDEFERIDO</td>\n",
       "      <td>2009.1</td>\n",
       "    </tr>\n",
       "    <tr>\n",
       "      <td>10</td>\n",
       "      <td>57508432</td>\n",
       "      <td>17b5d47ecd1c29d07b68d4c954593732</td>\n",
       "      <td>2000011.0</td>\n",
       "      <td>NaN</td>\n",
       "      <td>INDEFERIDO</td>\n",
       "      <td>2009.1</td>\n",
       "    </tr>\n",
       "  </tbody>\n",
       "</table>\n",
       "</div>"
      ],
      "text/plain": [
       "    id_turma                          discente   id_curso media_final  \\\n",
       "0   57508432  fad2f949bdce831a13d3380055ee07ec  2000011.0         NaN   \n",
       "1   57508432  d8221e79084eea45367dc26f59bd3adf  2000011.0         NaN   \n",
       "5   57508432  91580e1dd90ed3811c753915c7b3596c  2000002.0         NaN   \n",
       "6   57508432  fad2f949bdce831a13d3380055ee07ec  2000011.0         NaN   \n",
       "10  57508432  17b5d47ecd1c29d07b68d4c954593732  2000011.0         NaN   \n",
       "\n",
       "     descricao ano_periodo  \n",
       "0   INDEFERIDO      2009.1  \n",
       "1   INDEFERIDO      2009.1  \n",
       "5   INDEFERIDO      2009.1  \n",
       "6   INDEFERIDO      2009.1  \n",
       "10  INDEFERIDO      2009.1  "
      ]
     },
     "execution_count": 24,
     "metadata": {},
     "output_type": "execute_result"
    }
   ],
   "source": [
    "dfs['matriculas-componentes'][dfs['matriculas-componentes']['media_final'].isna()].head()"
   ]
  },
  {
   "cell_type": "code",
   "execution_count": 23,
   "metadata": {},
   "outputs": [
    {
     "data": {
      "text/plain": [
       "array([ nan,  5. ,  4. , 10. ,  9.7,  8. ,  7. ,  0. ,  9. ,  6.3,  9.3,\n",
       "        6. ,  6.7,  7.7,  3. ,  1. ,  6.4,  7.3,  6.6,  7.9,  8.5,  8.6,\n",
       "        5.8,  9.1,  2.2,  7.5,  6.1,  9.2,  8.8,  9.5,  8.2,  2.8,  8.3,\n",
       "        6.8,  0.7,  5.6,  9.4,  0.3,  7.4,  5.1,  7.1,  6.9,  8.1,  5.4,\n",
       "        6.2,  2. ,  5.9,  8.7,  7.2,  9.8,  6.5,  9.9,  1.5,  7.6,  8.4,\n",
       "        7.8,  8.9,  5.3,  5.2,  5.7,  0.2,  5.5,  2.3,  0.9,  1.3,  0.6,\n",
       "        2.1,  2.7,  1.2,  2.4,  1.1,  1.9,  9.6,  3.5,  3.4,  2.9,  3.3,\n",
       "        3.9,  3.6,  2.5,  2.6,  3.8,  0.8,  1.8,  3.2,  0.4,  0.5,  4.2,\n",
       "        4.5,  1.7,  1.4,  1.6,  4.9,  4.4,  3.7,  4.6,  3.1,  4.3,  4.1,\n",
       "        4.7,  4.8,  0.1])"
      ]
     },
     "execution_count": 23,
     "metadata": {},
     "output_type": "execute_result"
    }
   ],
   "source": [
    "df_matriculas_filter.media_final.unique()"
   ]
  },
  {
   "cell_type": "markdown",
   "metadata": {},
   "source": [
    "## Agrupamentos\n",
    "Aqui iremos agrupar os datasets, para podermos realizar operações mais interessantes. Como o dataset referente a matriculas é muito grande para gerarmos cardinalidade com agrupamentos (podendo ocasionar um `MemoryError`), iremos primeiro calcular as médias de cada discentes para depois só utilizarmos essas médias."
   ]
  },
  {
   "cell_type": "code",
   "execution_count": null,
   "metadata": {},
   "outputs": [],
   "source": []
  },
  {
   "cell_type": "code",
   "execution_count": 49,
   "metadata": {},
   "outputs": [],
   "source": [
    "# Calcula os calculos de média dos discentes\n",
    "df_matriculas_group = df_matriculas_filter.groupby(['id_turma', 'discente'])"
   ]
  },
  {
   "cell_type": "code",
   "execution_count": 50,
   "metadata": {},
   "outputs": [
    {
     "data": {
      "text/html": [
       "<div>\n",
       "<style scoped>\n",
       "    .dataframe tbody tr th:only-of-type {\n",
       "        vertical-align: middle;\n",
       "    }\n",
       "\n",
       "    .dataframe tbody tr th {\n",
       "        vertical-align: top;\n",
       "    }\n",
       "\n",
       "    .dataframe thead th {\n",
       "        text-align: right;\n",
       "    }\n",
       "</style>\n",
       "<table border=\"1\" class=\"dataframe\">\n",
       "  <thead>\n",
       "    <tr style=\"text-align: right;\">\n",
       "      <th></th>\n",
       "      <th>id_turma</th>\n",
       "      <th>discente</th>\n",
       "      <th>id_curso</th>\n",
       "      <th>media_final</th>\n",
       "      <th>descricao</th>\n",
       "      <th>ano_periodo</th>\n",
       "    </tr>\n",
       "  </thead>\n",
       "  <tbody>\n",
       "    <tr>\n",
       "      <td>0</td>\n",
       "      <td>57508432</td>\n",
       "      <td>bc3f5fa0b73af682c8e8f5ec1663028b</td>\n",
       "      <td>2000011.0</td>\n",
       "      <td>8.5</td>\n",
       "      <td>APROVADO</td>\n",
       "      <td>2009.1</td>\n",
       "    </tr>\n",
       "    <tr>\n",
       "      <td>1</td>\n",
       "      <td>57508432</td>\n",
       "      <td>bc3f5fa0b73af682c8e8f5ec1663028b</td>\n",
       "      <td>2000011.0</td>\n",
       "      <td>8.5</td>\n",
       "      <td>APROVADO</td>\n",
       "      <td>2009.1</td>\n",
       "    </tr>\n",
       "    <tr>\n",
       "      <td>2</td>\n",
       "      <td>57508432</td>\n",
       "      <td>bc3f5fa0b73af682c8e8f5ec1663028b</td>\n",
       "      <td>2000011.0</td>\n",
       "      <td>8.5</td>\n",
       "      <td>APROVADO</td>\n",
       "      <td>2009.1</td>\n",
       "    </tr>\n",
       "    <tr>\n",
       "      <td>3</td>\n",
       "      <td>57508432</td>\n",
       "      <td>a9bbcaaf5d35b4f71ffd224bb1fedbe5</td>\n",
       "      <td>2000011.0</td>\n",
       "      <td>8.2</td>\n",
       "      <td>APROVADO</td>\n",
       "      <td>2009.1</td>\n",
       "    </tr>\n",
       "    <tr>\n",
       "      <td>4</td>\n",
       "      <td>57508432</td>\n",
       "      <td>a9bbcaaf5d35b4f71ffd224bb1fedbe5</td>\n",
       "      <td>2000011.0</td>\n",
       "      <td>8.2</td>\n",
       "      <td>APROVADO</td>\n",
       "      <td>2009.1</td>\n",
       "    </tr>\n",
       "    <tr>\n",
       "      <td>...</td>\n",
       "      <td>...</td>\n",
       "      <td>...</td>\n",
       "      <td>...</td>\n",
       "      <td>...</td>\n",
       "      <td>...</td>\n",
       "      <td>...</td>\n",
       "    </tr>\n",
       "    <tr>\n",
       "      <td>11237072</td>\n",
       "      <td>1213594</td>\n",
       "      <td>2cd3cd2590ba78cf33d0d773d4fc0cae</td>\n",
       "      <td>4970.0</td>\n",
       "      <td>9</td>\n",
       "      <td>APROVADO</td>\n",
       "      <td>2013.2</td>\n",
       "    </tr>\n",
       "    <tr>\n",
       "      <td>11237073</td>\n",
       "      <td>1213594</td>\n",
       "      <td>2cd3cd2590ba78cf33d0d773d4fc0cae</td>\n",
       "      <td>4970.0</td>\n",
       "      <td>9</td>\n",
       "      <td>APROVADO</td>\n",
       "      <td>2013.2</td>\n",
       "    </tr>\n",
       "    <tr>\n",
       "      <td>11237074</td>\n",
       "      <td>1219446</td>\n",
       "      <td>a52b7f0f65e6a42148820a9178a26169</td>\n",
       "      <td>9513330.0</td>\n",
       "      <td>5</td>\n",
       "      <td>APROVADO</td>\n",
       "      <td>2013.2</td>\n",
       "    </tr>\n",
       "    <tr>\n",
       "      <td>11237075</td>\n",
       "      <td>1219446</td>\n",
       "      <td>e30c37f19cdeb8108c19a78ac408d322</td>\n",
       "      <td>9300592.0</td>\n",
       "      <td>5</td>\n",
       "      <td>APROVADO</td>\n",
       "      <td>2013.2</td>\n",
       "    </tr>\n",
       "    <tr>\n",
       "      <td>11237076</td>\n",
       "      <td>1219446</td>\n",
       "      <td>146842b660aeba3381c3c608287fda98</td>\n",
       "      <td>9300592.0</td>\n",
       "      <td>5</td>\n",
       "      <td>APROVADO</td>\n",
       "      <td>2013.2</td>\n",
       "    </tr>\n",
       "  </tbody>\n",
       "</table>\n",
       "<p>9251468 rows × 6 columns</p>\n",
       "</div>"
      ],
      "text/plain": [
       "          id_turma                          discente   id_curso media_final  \\\n",
       "0         57508432  bc3f5fa0b73af682c8e8f5ec1663028b  2000011.0         8.5   \n",
       "1         57508432  bc3f5fa0b73af682c8e8f5ec1663028b  2000011.0         8.5   \n",
       "2         57508432  bc3f5fa0b73af682c8e8f5ec1663028b  2000011.0         8.5   \n",
       "3         57508432  a9bbcaaf5d35b4f71ffd224bb1fedbe5  2000011.0         8.2   \n",
       "4         57508432  a9bbcaaf5d35b4f71ffd224bb1fedbe5  2000011.0         8.2   \n",
       "...            ...                               ...        ...         ...   \n",
       "11237072   1213594  2cd3cd2590ba78cf33d0d773d4fc0cae     4970.0           9   \n",
       "11237073   1213594  2cd3cd2590ba78cf33d0d773d4fc0cae     4970.0           9   \n",
       "11237074   1219446  a52b7f0f65e6a42148820a9178a26169  9513330.0           5   \n",
       "11237075   1219446  e30c37f19cdeb8108c19a78ac408d322  9300592.0           5   \n",
       "11237076   1219446  146842b660aeba3381c3c608287fda98  9300592.0           5   \n",
       "\n",
       "         descricao ano_periodo  \n",
       "0         APROVADO      2009.1  \n",
       "1         APROVADO      2009.1  \n",
       "2         APROVADO      2009.1  \n",
       "3         APROVADO      2009.1  \n",
       "4         APROVADO      2009.1  \n",
       "...            ...         ...  \n",
       "11237072  APROVADO      2013.2  \n",
       "11237073  APROVADO      2013.2  \n",
       "11237074  APROVADO      2013.2  \n",
       "11237075  APROVADO      2013.2  \n",
       "11237076  APROVADO      2013.2  \n",
       "\n",
       "[9251468 rows x 6 columns]"
      ]
     },
     "execution_count": 50,
     "metadata": {},
     "output_type": "execute_result"
    }
   ],
   "source": [
    "df_matriculas_group.head()"
   ]
  },
  {
   "cell_type": "code",
   "execution_count": 51,
   "metadata": {},
   "outputs": [
    {
     "ename": "DataError",
     "evalue": "No numeric types to aggregate",
     "output_type": "error",
     "traceback": [
      "\u001b[0;31m---------------------------------------------------------------------------\u001b[0m",
      "\u001b[0;31mDataError\u001b[0m                                 Traceback (most recent call last)",
      "\u001b[0;32m<ipython-input-51-2f9adba9bb57>\u001b[0m in \u001b[0;36m<module>\u001b[0;34m\u001b[0m\n\u001b[0;32m----> 1\u001b[0;31m \u001b[0mdf_matriculas_group\u001b[0m\u001b[0;34m[\u001b[0m\u001b[0;34m'media_final'\u001b[0m\u001b[0;34m]\u001b[0m\u001b[0;34m.\u001b[0m\u001b[0mmean\u001b[0m\u001b[0;34m(\u001b[0m\u001b[0;34m)\u001b[0m\u001b[0;34m\u001b[0m\u001b[0;34m\u001b[0m\u001b[0m\n\u001b[0m",
      "\u001b[0;32m~/.local/lib/python3.6/site-packages/pandas/core/groupby/groupby.py\u001b[0m in \u001b[0;36mmean\u001b[0;34m(self, *args, **kwargs)\u001b[0m\n\u001b[1;32m   1203\u001b[0m         \u001b[0;32mtry\u001b[0m\u001b[0;34m:\u001b[0m\u001b[0;34m\u001b[0m\u001b[0;34m\u001b[0m\u001b[0m\n\u001b[1;32m   1204\u001b[0m             return self._cython_agg_general(\n\u001b[0;32m-> 1205\u001b[0;31m                 \u001b[0;34m\"mean\"\u001b[0m\u001b[0;34m,\u001b[0m \u001b[0malt\u001b[0m\u001b[0;34m=\u001b[0m\u001b[0;32mlambda\u001b[0m \u001b[0mx\u001b[0m\u001b[0;34m,\u001b[0m \u001b[0maxis\u001b[0m\u001b[0;34m:\u001b[0m \u001b[0mSeries\u001b[0m\u001b[0;34m(\u001b[0m\u001b[0mx\u001b[0m\u001b[0;34m)\u001b[0m\u001b[0;34m.\u001b[0m\u001b[0mmean\u001b[0m\u001b[0;34m(\u001b[0m\u001b[0;34m**\u001b[0m\u001b[0mkwargs\u001b[0m\u001b[0;34m)\u001b[0m\u001b[0;34m,\u001b[0m \u001b[0;34m**\u001b[0m\u001b[0mkwargs\u001b[0m\u001b[0;34m\u001b[0m\u001b[0;34m\u001b[0m\u001b[0m\n\u001b[0m\u001b[1;32m   1206\u001b[0m             )\n\u001b[1;32m   1207\u001b[0m         \u001b[0;32mexcept\u001b[0m \u001b[0mGroupByError\u001b[0m\u001b[0;34m:\u001b[0m\u001b[0;34m\u001b[0m\u001b[0;34m\u001b[0m\u001b[0m\n",
      "\u001b[0;32m~/.local/lib/python3.6/site-packages/pandas/core/groupby/groupby.py\u001b[0m in \u001b[0;36m_cython_agg_general\u001b[0;34m(self, how, alt, numeric_only, min_count)\u001b[0m\n\u001b[1;32m    886\u001b[0m \u001b[0;34m\u001b[0m\u001b[0m\n\u001b[1;32m    887\u001b[0m         \u001b[0;32mif\u001b[0m \u001b[0mlen\u001b[0m\u001b[0;34m(\u001b[0m\u001b[0moutput\u001b[0m\u001b[0;34m)\u001b[0m \u001b[0;34m==\u001b[0m \u001b[0;36m0\u001b[0m\u001b[0;34m:\u001b[0m\u001b[0;34m\u001b[0m\u001b[0;34m\u001b[0m\u001b[0m\n\u001b[0;32m--> 888\u001b[0;31m             \u001b[0;32mraise\u001b[0m \u001b[0mDataError\u001b[0m\u001b[0;34m(\u001b[0m\u001b[0;34m\"No numeric types to aggregate\"\u001b[0m\u001b[0;34m)\u001b[0m\u001b[0;34m\u001b[0m\u001b[0;34m\u001b[0m\u001b[0m\n\u001b[0m\u001b[1;32m    889\u001b[0m \u001b[0;34m\u001b[0m\u001b[0m\n\u001b[1;32m    890\u001b[0m         \u001b[0;32mreturn\u001b[0m \u001b[0mself\u001b[0m\u001b[0;34m.\u001b[0m\u001b[0m_wrap_aggregated_output\u001b[0m\u001b[0;34m(\u001b[0m\u001b[0moutput\u001b[0m\u001b[0;34m,\u001b[0m \u001b[0mnames\u001b[0m\u001b[0;34m)\u001b[0m\u001b[0;34m\u001b[0m\u001b[0;34m\u001b[0m\u001b[0m\n",
      "\u001b[0;31mDataError\u001b[0m: No numeric types to aggregate"
     ]
    }
   ],
   "source": [
    "df_matriculas_group['media_final'].mean()"
   ]
  },
  {
   "cell_type": "code",
   "execution_count": 19,
   "metadata": {},
   "outputs": [
    {
     "data": {
      "text/plain": [
       "True"
      ]
     },
     "execution_count": 19,
     "metadata": {},
     "output_type": "execute_result"
    }
   ],
   "source": [
    "'bc3f5fa0b73af682c8e8f5ec1663028b' == 'bc3f5fa0b73af682c8e8f5ec1663028b'"
   ]
  },
  {
   "cell_type": "code",
   "execution_count": null,
   "metadata": {},
   "outputs": [],
   "source": []
  }
 ],
 "metadata": {
  "kernelspec": {
   "display_name": "Python 3",
   "language": "python",
   "name": "python3"
  },
  "language_info": {
   "codemirror_mode": {
    "name": "ipython",
    "version": 3
   },
   "file_extension": ".py",
   "mimetype": "text/x-python",
   "name": "python",
   "nbconvert_exporter": "python",
   "pygments_lexer": "ipython3",
   "version": "3.6.8"
  }
 },
 "nbformat": 4,
 "nbformat_minor": 2
}
