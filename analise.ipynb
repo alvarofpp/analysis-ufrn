{
 "cells": [
  {
   "cell_type": "markdown",
   "metadata": {},
   "source": [
    "# Análise da taxa de aprovação das disciplinas\n",
    "O objetivo desse notebook é realizar uma análise da taxa de aprovação das disciplinas da UFRN, por período.\n",
    "\n",
    "**Perguntas orientadoras**:\n",
    "- Qual o índice de aprovação da disciplina FMC2 em 2019.1?"
   ]
  },
  {
   "cell_type": "markdown",
   "metadata": {},
   "source": [
    "# Os dados\n",
    "Os dados que iremos utilizar foram retirados do site de [dados abertos da UFRN](http://dados.ufrn.br/). Os pacotes de dados foram:\n",
    "\n",
    "- [Docentes](http://dados.ufrn.br/dataset/docentes)\n",
    "- [Matriculas em Componentes](http://dados.ufrn.br/dataset/matriculas-componentes)\n",
    "- [Turmas](http://dados.ufrn.br/dataset/turmas)"
   ]
  },
  {
   "cell_type": "markdown",
   "metadata": {},
   "source": [
    "## Dependências\n",
    "Para o download desses dados, iremos utilizar o pacote [odufrn-downloader](https://github.com/odufrn/odufrn-downloader)."
   ]
  },
  {
   "cell_type": "code",
   "execution_count": null,
   "metadata": {
    "scrolled": true
   },
   "outputs": [],
   "source": [
    "!pip install -U --user odufrn_downloader"
   ]
  },
  {
   "cell_type": "markdown",
   "metadata": {},
   "source": [
    "## Importações"
   ]
  },
  {
   "cell_type": "code",
   "execution_count": 1,
   "metadata": {},
   "outputs": [],
   "source": [
    "import numpy as np\n",
    "import pandas as pd\n",
    "from os import listdir\n",
    "from odufrn_downloader import ODUFRNDownloader"
   ]
  },
  {
   "cell_type": "markdown",
   "metadata": {},
   "source": [
    "## Download dos arquivos"
   ]
  },
  {
   "cell_type": "code",
   "execution_count": 2,
   "metadata": {
    "scrolled": false
   },
   "outputs": [
    {
     "name": "stdout",
     "output_type": "stream",
     "text": [
      "Baixando Docentes...\n",
      "Baixando Matrículas de 2019.1...\n",
      "Baixando Matrículas de 2018.2...\n",
      "Baixando Matrículas de 2018.1...\n",
      "Baixando Matrículas de 2017.2...\n",
      "Baixando Matrículas de 2017.1...\n",
      "Baixando Matrículas de 2016.2...\n",
      "Baixando Matrículas de 2016.1...\n",
      "Baixando Matrículas de 2015.2...\n",
      "Baixando Matrículas de 2015.1...\n",
      "Baixando Matrículas de 2014.2...\n",
      "Baixando Matrículas de 2014.1...\n",
      "Baixando Matrículas de 2013.2...\n",
      "Baixando Matrículas de 2013.1...\n",
      "Baixando Matrículas de 2012.2...\n",
      "Baixando Matrículas de 2011.2...\n",
      "Baixando Matrículas de 2012.1...\n",
      "Baixando Matrículas de 2011.1...\n",
      "Baixando Matrículas de 2010.2...\n",
      "Baixando Matrículas de 2010.1...\n",
      "Baixando Matrículas de 2009.2...\n",
      "Baixando Matrículas de 2009.1...\n",
      "Baixando Turmas de 2018.1...\n",
      "Baixando Turmas de 2018.2...\n",
      "Baixando Turmas de 2017.1...\n",
      "Baixando Turmas de 2017.2...\n",
      "Baixando Turmas de 2016.1...\n",
      "Baixando Turmas de 2016.2...\n",
      "Baixando Turmas de 2015.1...\n",
      "Baixando Turmas de 2015.2...\n",
      "Baixando Turmas de 2014.1...\n",
      "Baixando Turmas de 2014.2...\n",
      "Baixando Turmas de 2013.1...\n",
      "Baixando Turmas de 2013.2...\n",
      "Baixando Turmas de 2012.1...\n",
      "Baixando Turmas de 2012.2...\n",
      "Baixando Turmas de 2011.2...\n",
      "Baixando Turmas de 2011.1...\n",
      "Baixando Turmas de 2010.1...\n",
      "Baixando Turmas de 2010.2...\n",
      "Baixando Turmas de 2009.1...\n",
      "Baixando Turmas de 2009.2...\n",
      "Baixando Turmas de 2008.1...\n",
      "Baixando Turmas de 2008.2...\n",
      "Baixando Turmas de 2007.1...\n",
      "Baixando Turmas de 2007.2...\n",
      "Baixando Turmas de 2006.1...\n",
      "Baixando Turmas de 2006.2...\n",
      "Baixando Turmas de 2005.1...\n",
      "Baixando Turmas de 2005.2...\n",
      "Baixando Turmas de 2004.1...\n",
      "Baixando Turmas de 2003.1...\n",
      "Baixando Turmas de 2004.2...\n",
      "Baixando Turmas de 2003.2...\n",
      "Baixando Turmas de 2019.1...\n",
      "Baixando Turmas de 2002.1...\n",
      "Baixando Turmas de 2002.2...\n",
      "Baixando Turmas de 2001.1...\n",
      "Baixando Turmas de 2001.2...\n",
      "Baixando Turmas de 2000.1...\n",
      "Baixando Turmas de 2000.2...\n",
      "Baixando Turmas de 2019.2...\n"
     ]
    }
   ],
   "source": [
    "# Objeto\n",
    "ufrn_data = ODUFRNDownloader()\n",
    "# Processo de download\n",
    "ufrn_data.download_packages([\n",
    "    'docentes', 'matriculas-componentes', 'turmas',\n",
    "], path='data', dictionary=False)"
   ]
  },
  {
   "cell_type": "markdown",
   "metadata": {},
   "source": [
    "## Leitura dos arquivos\n",
    "Como temos muitos arquivos, não podemos nos dar ao luxo de alocar todos ele em memória, para isso iremos especificar os campos que queremos usar de cada pacote de dados.\n",
    "\n",
    "**Docentes**:\n",
    "\n",
    "| Campo | Tipo | Descrição | Obrigatório? |\n",
    "| ----- | ---- | --------- | ------------ |\n",
    "| siape | Inteiro | Matrícula SIAPE do docente | Sim |\n",
    "| nome | Texto | Nome do docente | Sim |\n",
    "| formacao | Texto | Denominação da formação/titulação do docente | Não |\n",
    "\n",
    "**Turmas**:\n",
    "\n",
    "| Campo | Tipo | Descrição | Obrigatório? |\n",
    "| ----- | ---- | --------- | ------------ |\n",
    "| id_turma | Inteiro | Identificador da turma | Sim |\n",
    "| siape | Inteiro | Siape do docente interno (siape - caso seja um docente servidor da instituição). | Não |\n",
    "| id_componente | Inteiro | Identificador do componente curricular da turma. | Sim |\n",
    "| nivel_ensino | Texto | Nível de ensino da turma. | Sim |\n",
    "| situacao_turma | Texto | Situação da turma. | Sim |\n",
    "\n",
    "**Matrículas em Componentes**:\n",
    "\n",
    "| Campo | Tipo | Descrição | Obrigatório? |\n",
    "| ----- | ---- | --------- | ------------ |\n",
    "| id_turma | Inteiro | Identificador da turma do discente. | Sim |\n",
    "| id_discente | Texto | Identificador do discente da matrícula. | Sim |\n",
    "| id_curso | Inteiro | Identificador do curso do discente. | Sim |\n",
    "| media_final | Decimal | Média final do discente. | Sim |\n",
    "| descricao | Texto | Situação da matrícula. | Sim |"
   ]
  },
  {
   "cell_type": "code",
   "execution_count": 8,
   "metadata": {},
   "outputs": [],
   "source": [
    "# Campos que iremos usar de cada dataset\n",
    "target_columns = {\n",
    "    'docentes': [\n",
    "        'siape',\n",
    "        'nome',\n",
    "        'formacao',\n",
    "    ],\n",
    "    'turmas': [\n",
    "        'id_turma',\n",
    "        'siape',\n",
    "        'id_componente_curricular',\n",
    "        'nivel_ensino',\n",
    "        'situacao_turma',\n",
    "    ],\n",
    "    'matriculas-componentes': [\n",
    "        'id_turma',\n",
    "        'discente',\n",
    "        'id_curso',\n",
    "        'media_final',\n",
    "        'descricao',\n",
    "    ],\n",
    "    \n",
    "}"
   ]
  },
  {
   "cell_type": "markdown",
   "metadata": {},
   "source": [
    "Realizamos o processo de filtragem dos campos e concatenação dos DataFrames. No caso de **turmas** e **matriculas-componentes**, iremos criar o campo *ano_periodo*. "
   ]
  },
  {
   "cell_type": "code",
   "execution_count": 9,
   "metadata": {
    "scrolled": false
   },
   "outputs": [],
   "source": [
    "# Dicionário que conterá os datasets\n",
    "dfs = {\n",
    "    'docentes': [],\n",
    "    'turmas': [],\n",
    "    'matriculas-componentes': [],\n",
    "}\n",
    "\n",
    "\n",
    "\n",
    "# Percorremos as pastas com os datasets\n",
    "for package in listdir('data'):\n",
    "    # Percorremos cada arquivo da pasta\n",
    "    for filename in listdir('data/'+package):\n",
    "        # Caminho para o arquivo\n",
    "        path_file = 'data/'+package+'/'+filename\n",
    "        # Lemos o dataset\n",
    "        df = pd.read_csv(path_file, sep=';', usecols=target_columns[package])\n",
    "        # Adiciona a coluna para identificar os anos e períodos\n",
    "        if package in ['turmas', 'matriculas-componentes']:\n",
    "            df['ano_periodo'] = filename[-10:-4]\n",
    "        # Adicionamos o dataframe a lista de dataframe\n",
    "        dfs[package].append(df)\n",
    "        \n",
    "# Ao final, concatenamos todos os datasets, gerando um só para cada pacote\n",
    "for key in dfs.keys():\n",
    "    dfs[key] = pd.concat(dfs[key], ignore_index=True)"
   ]
  },
  {
   "cell_type": "markdown",
   "metadata": {},
   "source": [
    "A função **[pandas.DataFrame.info](https://pandas.pydata.org/pandas-docs/stable/generated/pandas.DataFrame.info.html)** nos fornecerá um sumário dos dados que temos. "
   ]
  },
  {
   "cell_type": "code",
   "execution_count": 10,
   "metadata": {},
   "outputs": [
    {
     "name": "stdout",
     "output_type": "stream",
     "text": [
      "<class 'pandas.core.frame.DataFrame'>\n",
      "RangeIndex: 2361 entries, 0 to 2360\n",
      "Data columns (total 3 columns):\n",
      "siape       2361 non-null int64\n",
      "nome        2361 non-null object\n",
      "formacao    2361 non-null object\n",
      "dtypes: int64(1), object(2)\n",
      "memory usage: 55.5+ KB\n"
     ]
    }
   ],
   "source": [
    "dfs['docentes'].info()"
   ]
  },
  {
   "cell_type": "code",
   "execution_count": 11,
   "metadata": {},
   "outputs": [
    {
     "name": "stdout",
     "output_type": "stream",
     "text": [
      "<class 'pandas.core.frame.DataFrame'>\n",
      "RangeIndex: 371632 entries, 0 to 371631\n",
      "Data columns (total 6 columns):\n",
      "id_turma                    371632 non-null int64\n",
      "siape                       358806 non-null float64\n",
      "id_componente_curricular    371632 non-null int64\n",
      "nivel_ensino                371632 non-null object\n",
      "situacao_turma              371632 non-null object\n",
      "ano_periodo                 371632 non-null object\n",
      "dtypes: float64(1), int64(2), object(3)\n",
      "memory usage: 17.0+ MB\n"
     ]
    }
   ],
   "source": [
    "dfs['turmas'].info()"
   ]
  },
  {
   "cell_type": "code",
   "execution_count": 13,
   "metadata": {
    "scrolled": false
   },
   "outputs": [
    {
     "name": "stdout",
     "output_type": "stream",
     "text": [
      "<class 'pandas.core.frame.DataFrame'>\n",
      "RangeIndex: 13079106 entries, 0 to 13079105\n",
      "Data columns (total 6 columns):\n",
      "id_turma       int64\n",
      "discente       object\n",
      "id_curso       float64\n",
      "media_final    object\n",
      "descricao      object\n",
      "ano_periodo    object\n",
      "dtypes: float64(1), int64(1), object(4)\n",
      "memory usage: 598.7+ MB\n"
     ]
    }
   ],
   "source": [
    "dfs['matriculas-componentes'].info()"
   ]
  },
  {
   "cell_type": "markdown",
   "metadata": {},
   "source": [
    "# Calcular a taxa de aprovação das turmas\n",
    "\n",
    "Primeiro iremos realizar um filtro nas turmas, pegando apenas as que são de graduação e foram consolidadas."
   ]
  },
  {
   "cell_type": "code",
   "execution_count": 23,
   "metadata": {},
   "outputs": [],
   "source": [
    "# Filtramos as turmas de graduação e turmas consolidadas\n",
    "df_turmas_filter = dfs['turmas'][\n",
    "    np.logical_and(\n",
    "        dfs['turmas']['nivel_ensino'] == 'GRADUAÇÃO',\n",
    "        dfs['turmas']['situacao_turma'] == 'CONSOLIDADA')\n",
    "]"
   ]
  },
  {
   "cell_type": "code",
   "execution_count": 24,
   "metadata": {
    "scrolled": true
   },
   "outputs": [
    {
     "name": "stdout",
     "output_type": "stream",
     "text": [
      "<class 'pandas.core.frame.DataFrame'>\n",
      "Int64Index: 275534 entries, 74 to 371631\n",
      "Data columns (total 6 columns):\n",
      "id_turma                    275534 non-null int64\n",
      "siape                       272762 non-null float64\n",
      "id_componente_curricular    275534 non-null int64\n",
      "nivel_ensino                275534 non-null object\n",
      "situacao_turma              275534 non-null object\n",
      "ano_periodo                 275534 non-null object\n",
      "dtypes: float64(1), int64(2), object(3)\n",
      "memory usage: 14.7+ MB\n"
     ]
    }
   ],
   "source": [
    "df_turmas_filter.info()"
   ]
  },
  {
   "cell_type": "code",
   "execution_count": 25,
   "metadata": {},
   "outputs": [
    {
     "data": {
      "text/html": [
       "<div>\n",
       "<style scoped>\n",
       "    .dataframe tbody tr th:only-of-type {\n",
       "        vertical-align: middle;\n",
       "    }\n",
       "\n",
       "    .dataframe tbody tr th {\n",
       "        vertical-align: top;\n",
       "    }\n",
       "\n",
       "    .dataframe thead th {\n",
       "        text-align: right;\n",
       "    }\n",
       "</style>\n",
       "<table border=\"1\" class=\"dataframe\">\n",
       "  <thead>\n",
       "    <tr style=\"text-align: right;\">\n",
       "      <th></th>\n",
       "      <th>id_turma</th>\n",
       "      <th>siape</th>\n",
       "      <th>id_componente_curricular</th>\n",
       "      <th>nivel_ensino</th>\n",
       "      <th>situacao_turma</th>\n",
       "      <th>ano_periodo</th>\n",
       "    </tr>\n",
       "  </thead>\n",
       "  <tbody>\n",
       "    <tr>\n",
       "      <td>74</td>\n",
       "      <td>1160176</td>\n",
       "      <td>1149368.0</td>\n",
       "      <td>21743</td>\n",
       "      <td>GRADUAÇÃO</td>\n",
       "      <td>CONSOLIDADA</td>\n",
       "      <td>2011.1</td>\n",
       "    </tr>\n",
       "    <tr>\n",
       "      <td>75</td>\n",
       "      <td>1160177</td>\n",
       "      <td>1856399.0</td>\n",
       "      <td>22926</td>\n",
       "      <td>GRADUAÇÃO</td>\n",
       "      <td>CONSOLIDADA</td>\n",
       "      <td>2011.1</td>\n",
       "    </tr>\n",
       "    <tr>\n",
       "      <td>76</td>\n",
       "      <td>1160178</td>\n",
       "      <td>6346790.0</td>\n",
       "      <td>25562</td>\n",
       "      <td>GRADUAÇÃO</td>\n",
       "      <td>CONSOLIDADA</td>\n",
       "      <td>2011.1</td>\n",
       "    </tr>\n",
       "    <tr>\n",
       "      <td>77</td>\n",
       "      <td>1160179</td>\n",
       "      <td>346468.0</td>\n",
       "      <td>25562</td>\n",
       "      <td>GRADUAÇÃO</td>\n",
       "      <td>CONSOLIDADA</td>\n",
       "      <td>2011.1</td>\n",
       "    </tr>\n",
       "    <tr>\n",
       "      <td>78</td>\n",
       "      <td>1160179</td>\n",
       "      <td>6346790.0</td>\n",
       "      <td>25562</td>\n",
       "      <td>GRADUAÇÃO</td>\n",
       "      <td>CONSOLIDADA</td>\n",
       "      <td>2011.1</td>\n",
       "    </tr>\n",
       "  </tbody>\n",
       "</table>\n",
       "</div>"
      ],
      "text/plain": [
       "    id_turma      siape  id_componente_curricular nivel_ensino situacao_turma  \\\n",
       "74   1160176  1149368.0                     21743    GRADUAÇÃO    CONSOLIDADA   \n",
       "75   1160177  1856399.0                     22926    GRADUAÇÃO    CONSOLIDADA   \n",
       "76   1160178  6346790.0                     25562    GRADUAÇÃO    CONSOLIDADA   \n",
       "77   1160179   346468.0                     25562    GRADUAÇÃO    CONSOLIDADA   \n",
       "78   1160179  6346790.0                     25562    GRADUAÇÃO    CONSOLIDADA   \n",
       "\n",
       "   ano_periodo  \n",
       "74      2011.1  \n",
       "75      2011.1  \n",
       "76      2011.1  \n",
       "77      2011.1  \n",
       "78      2011.1  "
      ]
     },
     "execution_count": 25,
     "metadata": {},
     "output_type": "execute_result"
    }
   ],
   "source": [
    "df_turmas_filter.head()"
   ]
  },
  {
   "cell_type": "markdown",
   "metadata": {},
   "source": [
    "Agora vamos realizar o filtro nas matriculas, pegando as matriculas completaram a disciplina de alguma forma."
   ]
  },
  {
   "cell_type": "code",
   "execution_count": 29,
   "metadata": {},
   "outputs": [
    {
     "data": {
      "text/plain": [
       "array(['INDEFERIDO', 'APROVADO', 'TRANCADO', 'REPROVADO',\n",
       "       'REPROVADO POR FALTAS', 'CANCELADO', 'EXCLUIDA', 'DESISTENCIA',\n",
       "       'DISPENSADO', 'REPROVADO POR MÉDIA E POR FALTAS', 'MATRICULADO',\n",
       "       'TRANSFERIDO', 'APROVADO POR NOTA', 'REPROVADO POR NOTA',\n",
       "       'REPROVADO POR NOTA E FALTA', 'CUMPRIU', 'AGUARDANDO DEFERIMENTO',\n",
       "       'EM ESPERA', 'INCORPORADO', 'REPROVADO EM TODO PERÍODO LETIVO'],\n",
       "      dtype=object)"
      ]
     },
     "execution_count": 29,
     "metadata": {},
     "output_type": "execute_result"
    }
   ],
   "source": [
    "dfs['matriculas-componentes']['descricao'].unique()"
   ]
  },
  {
   "cell_type": "code",
   "execution_count": 35,
   "metadata": {},
   "outputs": [],
   "source": [
    "# Filtramos as matriculas que completaram a disciplina de alguma forma\n",
    "df_matriculas_filter = dfs['matriculas-componentes'][\n",
    "    dfs['matriculas-componentes']['descricao'].isin([\n",
    "            'APROVADO',\n",
    "            'APROVADO POR NOTA',\n",
    "            'REPROVADO',\n",
    "            'REPROVADO POR FALTAS',\n",
    "            'REPROVADO POR MÉDIA E POR FALTAS',\n",
    "            'REPROVADO POR NOTA',\n",
    "            'REPROVADO POR NOTA E FALTA'\n",
    "        ])\n",
    "]"
   ]
  },
  {
   "cell_type": "code",
   "execution_count": 36,
   "metadata": {},
   "outputs": [
    {
     "name": "stdout",
     "output_type": "stream",
     "text": [
      "<class 'pandas.core.frame.DataFrame'>\n",
      "Int64Index: 11237077 entries, 2 to 13079105\n",
      "Data columns (total 6 columns):\n",
      "id_turma       int64\n",
      "discente       object\n",
      "id_curso       float64\n",
      "media_final    object\n",
      "descricao      object\n",
      "ano_periodo    object\n",
      "dtypes: float64(1), int64(1), object(4)\n",
      "memory usage: 600.1+ MB\n"
     ]
    }
   ],
   "source": [
    "df_matriculas_filter.info()"
   ]
  },
  {
   "cell_type": "code",
   "execution_count": 37,
   "metadata": {},
   "outputs": [
    {
     "data": {
      "text/html": [
       "<div>\n",
       "<style scoped>\n",
       "    .dataframe tbody tr th:only-of-type {\n",
       "        vertical-align: middle;\n",
       "    }\n",
       "\n",
       "    .dataframe tbody tr th {\n",
       "        vertical-align: top;\n",
       "    }\n",
       "\n",
       "    .dataframe thead th {\n",
       "        text-align: right;\n",
       "    }\n",
       "</style>\n",
       "<table border=\"1\" class=\"dataframe\">\n",
       "  <thead>\n",
       "    <tr style=\"text-align: right;\">\n",
       "      <th></th>\n",
       "      <th>id_turma</th>\n",
       "      <th>discente</th>\n",
       "      <th>id_curso</th>\n",
       "      <th>media_final</th>\n",
       "      <th>descricao</th>\n",
       "      <th>ano_periodo</th>\n",
       "    </tr>\n",
       "  </thead>\n",
       "  <tbody>\n",
       "    <tr>\n",
       "      <td>2</td>\n",
       "      <td>57508432</td>\n",
       "      <td>bc3f5fa0b73af682c8e8f5ec1663028b</td>\n",
       "      <td>2000011.0</td>\n",
       "      <td>8.5</td>\n",
       "      <td>APROVADO</td>\n",
       "      <td>2009.1</td>\n",
       "    </tr>\n",
       "    <tr>\n",
       "      <td>3</td>\n",
       "      <td>57508432</td>\n",
       "      <td>bc3f5fa0b73af682c8e8f5ec1663028b</td>\n",
       "      <td>2000011.0</td>\n",
       "      <td>8.5</td>\n",
       "      <td>APROVADO</td>\n",
       "      <td>2009.1</td>\n",
       "    </tr>\n",
       "    <tr>\n",
       "      <td>4</td>\n",
       "      <td>57508432</td>\n",
       "      <td>bc3f5fa0b73af682c8e8f5ec1663028b</td>\n",
       "      <td>2000011.0</td>\n",
       "      <td>8.5</td>\n",
       "      <td>APROVADO</td>\n",
       "      <td>2009.1</td>\n",
       "    </tr>\n",
       "    <tr>\n",
       "      <td>7</td>\n",
       "      <td>57508432</td>\n",
       "      <td>a9bbcaaf5d35b4f71ffd224bb1fedbe5</td>\n",
       "      <td>2000011.0</td>\n",
       "      <td>8.2</td>\n",
       "      <td>APROVADO</td>\n",
       "      <td>2009.1</td>\n",
       "    </tr>\n",
       "    <tr>\n",
       "      <td>8</td>\n",
       "      <td>57508432</td>\n",
       "      <td>a9bbcaaf5d35b4f71ffd224bb1fedbe5</td>\n",
       "      <td>2000011.0</td>\n",
       "      <td>8.2</td>\n",
       "      <td>APROVADO</td>\n",
       "      <td>2009.1</td>\n",
       "    </tr>\n",
       "  </tbody>\n",
       "</table>\n",
       "</div>"
      ],
      "text/plain": [
       "   id_turma                          discente   id_curso media_final  \\\n",
       "2  57508432  bc3f5fa0b73af682c8e8f5ec1663028b  2000011.0         8.5   \n",
       "3  57508432  bc3f5fa0b73af682c8e8f5ec1663028b  2000011.0         8.5   \n",
       "4  57508432  bc3f5fa0b73af682c8e8f5ec1663028b  2000011.0         8.5   \n",
       "7  57508432  a9bbcaaf5d35b4f71ffd224bb1fedbe5  2000011.0         8.2   \n",
       "8  57508432  a9bbcaaf5d35b4f71ffd224bb1fedbe5  2000011.0         8.2   \n",
       "\n",
       "  descricao ano_periodo  \n",
       "2  APROVADO      2009.1  \n",
       "3  APROVADO      2009.1  \n",
       "4  APROVADO      2009.1  \n",
       "7  APROVADO      2009.1  \n",
       "8  APROVADO      2009.1  "
      ]
     },
     "execution_count": 37,
     "metadata": {},
     "output_type": "execute_result"
    }
   ],
   "source": [
    "df_matriculas_filter.head()"
   ]
  },
  {
   "cell_type": "code",
   "execution_count": null,
   "metadata": {},
   "outputs": [],
   "source": []
  }
 ],
 "metadata": {
  "kernelspec": {
   "display_name": "Python 3",
   "language": "python",
   "name": "python3"
  },
  "language_info": {
   "codemirror_mode": {
    "name": "ipython",
    "version": 3
   },
   "file_extension": ".py",
   "mimetype": "text/x-python",
   "name": "python",
   "nbconvert_exporter": "python",
   "pygments_lexer": "ipython3",
   "version": "3.6.8"
  }
 },
 "nbformat": 4,
 "nbformat_minor": 2
}
